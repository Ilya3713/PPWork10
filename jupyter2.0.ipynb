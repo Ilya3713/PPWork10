In [1]:
import pandas as pd
In [2]:
file_path = 'C:/Users/test/Desktop/name/'
In [3]:
def count_top3(years):
    top3_list = []
    names_per_year = []
    for year in years:
        names = pd.read_csv(f'{file_path}/yob{year}.txt', names=['Name', 'Gender', 'Count'])
        names_per_year.append(names)
    all_names = pd.concat(names_per_year)
    grouped_names = all_names.groupby(['Name']).sum()
    sorted_names = grouped_names.sort_values('Count', ascending=False)
    sorted_names_3 = sorted_names.head(3)
    for i, row in sorted_names_3.iterrows():
        top3_list.append(i)
    return top3_list
count_top3([1900, 1950, 2000])
Out[3]:
['James', 'John', 'Robert']
In [4]:
def count_dynamics(years):
    count_dynamics_dict = {}
    F_list = []
    M_list = []
    for year in years:
        names = pd.read_csv(f'{file_path}/yob{year}.txt', names=['Name', 'Gender', 'Count'])
        female_names = names[names['Gender'] == 'F']
        grouped_fn = female_names.groupby(['Gender']).sum()
        for i, row in grouped_fn.iterrows():
            F_list.append(row['Count'])
        male_names = names[names['Gender'] == 'M']
        grouped_mn = male_names.groupby(['Gender']).sum()
        for i, row in grouped_mn.iterrows():
            M_list.append(row['Count'])
    count_dynamics_dict['F'] = F_list
    count_dynamics_dict['M'] = M_list
    return count_dynamics_dict
count_dynamics([1900, 1950, 2000])
Out[4]:
{'F': [299798, 1713065, 1815295], 'M': [150480, 1790437, 1963202]}
In [ ]:
