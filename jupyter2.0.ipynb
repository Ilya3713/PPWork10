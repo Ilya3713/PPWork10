In [1]:
import pandas as pd
In [2]:
file_path = 'C:/Users/marve/Desktop/names/'
